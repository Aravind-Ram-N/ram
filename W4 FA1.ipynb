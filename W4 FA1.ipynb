{
    "cells": [
        {
            "metadata": {
                "collapsed": true
            },
            "cell_type": "markdown",
            "source": "### DATA"
        },
        {
            "metadata": {},
            "cell_type": "markdown",
            "source": "- To solve this problem, we will need below data\n     * List of neighborhoods in Toronto, Canada\n     * Latitude and Longitude of these neighborhoods\n     * Venue data related to Indian restaurants. This will help us find the\nneighborhoods that are more suitable to open an Indian Restaurant."
        },
        {
            "metadata": {},
            "cell_type": "markdown",
            "source": "### EXTRACTING THE DATA"
        },
        {
            "metadata": {},
            "cell_type": "markdown",
            "source": "-The following are\n* Scrapping of Toronto neighborhoods via Wikipedia\n* Getting Latitude and Longitude data of these neighborhoods via\nGeocoder package\n* Using Foursquare API to get venue data related to these\nneighborhoods"
        },
        {
            "metadata": {},
            "cell_type": "code",
            "source": "",
            "execution_count": null,
            "outputs": []
        }
    ],
    "metadata": {
        "kernelspec": {
            "name": "python3",
            "display_name": "Python 3.7",
            "language": "python"
        },
        "language_info": {
            "name": "python",
            "version": "3.7.9",
            "mimetype": "text/x-python",
            "codemirror_mode": {
                "name": "ipython",
                "version": 3
            },
            "pygments_lexer": "ipython3",
            "nbconvert_exporter": "python",
            "file_extension": ".py"
        }
    },
    "nbformat": 4,
    "nbformat_minor": 1
}