{
    "cells": [
        {
            "metadata": {
                "collapsed": true
            },
            "cell_type": "markdown",
            "source": "### INTRODUCTION"
        },
        {
            "metadata": {},
            "cell_type": "markdown",
            "source": "This is a capstone project for IBM Data Science Professional Certificate.In this project, I am creating a hypothetical scenario for a concept that\nthere may not be enough Indian Restaurants in Toronto Area. Therefore it\nmight be a great opportunity for an entrepreneur who is based in Canada.\nAs the Indian food is popular among Asian community, so this\nentrepreneur might think of opening its business in areas where asian\ncommunity resides.With the purpose in mind, finding the location to open\nsuch a restaurant is one of the most important decisions for this\nentrepreneur and I am designing this project to help him find the most\nsuitable location."
        },
        {
            "metadata": {},
            "cell_type": "markdown",
            "source": "### BUSINESS PROBLEM"
        },
        {
            "metadata": {},
            "cell_type": "markdown",
            "source": "The objective of this capstone project is to find the most suitable\nlocation for the entrepreneur to open a new Indian Restaurant in\nToronto,Canada. By using data science methods and tools along with\nmachine learning algorithms such as clustering, this project aims to\nprovide solutions to answer the business question : In Toronto, if an\nentrepreneur wants to open an Indian Restaurant, where should they\nconsider opening it?"
        },
        {
            "metadata": {},
            "cell_type": "code",
            "source": "",
            "execution_count": null,
            "outputs": []
        }
    ],
    "metadata": {
        "kernelspec": {
            "name": "python3",
            "display_name": "Python 3.7",
            "language": "python"
        },
        "language_info": {
            "name": "python",
            "version": "3.7.9",
            "mimetype": "text/x-python",
            "codemirror_mode": {
                "name": "ipython",
                "version": 3
            },
            "pygments_lexer": "ipython3",
            "nbconvert_exporter": "python",
            "file_extension": ".py"
        }
    },
    "nbformat": 4,
    "nbformat_minor": 1
}